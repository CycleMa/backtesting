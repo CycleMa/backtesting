{
 "cells": [
  {
   "cell_type": "code",
   "execution_count": 1,
   "metadata": {},
   "outputs": [],
   "source": [
    "import backtrader as bt\n",
    "import pandas as pd"
   ]
  },
  {
   "cell_type": "code",
   "execution_count": 7,
   "metadata": {},
   "outputs": [
    {
     "data": {
      "text/plain": [
       "0        2010-04-16 09:20:00\n",
       "1        2010-04-16 09:25:00\n",
       "2        2010-04-16 09:30:00\n",
       "3        2010-04-16 09:35:00\n",
       "4        2010-04-16 09:40:00\n",
       "                ...         \n",
       "70223                    NaN\n",
       "70224                    NaN\n",
       "70225                    NaN\n",
       "70226                    NaN\n",
       "70227                    NaN\n",
       "Name: datetime, Length: 70228, dtype: object"
      ]
     },
     "execution_count": 7,
     "metadata": {},
     "output_type": "execute_result"
    }
   ],
   "source": [
    "df = pd.read_csv('log.csv', header=1)\n",
    "df['datetime']"
   ]
  }
 ],
 "metadata": {
  "interpreter": {
   "hash": "006f0116bcb1006a16d8ff9e0533e10852c41d0bc1cb0d0362324521b9ffd964"
  },
  "kernelspec": {
   "display_name": "Python 3.8.10 64-bit ('pyfinance': conda)",
   "language": "python",
   "name": "python3"
  },
  "language_info": {
   "codemirror_mode": {
    "name": "ipython",
    "version": 3
   },
   "file_extension": ".py",
   "mimetype": "text/x-python",
   "name": "python",
   "nbconvert_exporter": "python",
   "pygments_lexer": "ipython3",
   "version": "3.8.10"
  },
  "orig_nbformat": 4
 },
 "nbformat": 4,
 "nbformat_minor": 2
}
